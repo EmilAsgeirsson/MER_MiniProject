{
 "cells": [
  {
   "cell_type": "code",
   "execution_count": 8,
   "metadata": {},
   "outputs": [
    {
     "name": "stdout",
     "output_type": "stream",
     "text": [
      "COM3 - Seriel USB-enhed (COM3)\n"
     ]
    }
   ],
   "source": [
    "import serial.tools.list_ports as port_list\n",
    "ports = list(port_list.comports())\n",
    "for port in ports:\n",
    "    print(f\"{port}\")\n"
   ]
  },
  {
   "cell_type": "code",
   "execution_count": 9,
   "metadata": {},
   "outputs": [
    {
     "name": "stderr",
     "output_type": "stream",
     "text": [
      "Exception in thread Thread-3 (read_serial):\n",
      "Traceback (most recent call last):\n",
      "  File \"c:\\Users\\emila\\AppData\\Local\\Programs\\Python\\Python310\\lib\\threading.py\", line 1016, in _bootstrap_inner\n",
      "    self.run()\n",
      "  File \"c:\\Users\\emila\\AppData\\Local\\Programs\\Python\\Python310\\lib\\threading.py\", line 953, in run\n",
      "    self._target(*self._args, **self._kwargs)\n",
      "  File \"C:\\Users\\emila\\AppData\\Local\\Temp\\ipykernel_81220\\2228166425.py\", line 16, in read_serial\n",
      "  File \"c:\\Users\\emila\\AppData\\Local\\Programs\\Python\\Python310\\lib\\site-packages\\serial\\serialwin32.py\", line 33, in __init__\n",
      "    super(Serial, self).__init__(*args, **kwargs)\n",
      "  File \"c:\\Users\\emila\\AppData\\Local\\Programs\\Python\\Python310\\lib\\site-packages\\serial\\serialutil.py\", line 244, in __init__\n",
      "    self.open()\n",
      "  File \"c:\\Users\\emila\\AppData\\Local\\Programs\\Python\\Python310\\lib\\site-packages\\serial\\serialwin32.py\", line 64, in open\n",
      "    raise SerialException(\"could not open port {!r}: {!r}\".format(self.portstr, ctypes.WinError()))\n",
      "serial.serialutil.SerialException: could not open port 'COM9': FileNotFoundError(2, 'Den angivne fil blev ikke fundet.', None, 2)\n"
     ]
    },
    {
     "name": "stdout",
     "output_type": "stream",
     "text": [
      "Thread started\n",
      "[]\n",
      "[]\n",
      "[]\n",
      "[]\n",
      "[]\n",
      "[]\n",
      "[]\n",
      "[]\n",
      "[]\n",
      "[]\n"
     ]
    }
   ],
   "source": [
    "from time import sleep\n",
    "from threading import Thread, Lock\n",
    "from time import time\n",
    "\n",
    "thread: dict = {\n",
    "    \"thread\": None,\n",
    "    \"data\": list(),\n",
    "    \"run_flag\": True,\n",
    "    \"lock\": Lock()\n",
    "}\n",
    "\n",
    "\n",
    "def read_serial(port: str = \"COM9\") -> None:\n",
    "    from serial import Serial\n",
    "\n",
    "    with Serial(port=port, baudrate=115200, timeout=1) as serial:\n",
    "        # Wait for system to start\n",
    "        sleep(2)\n",
    "        line: str = serial.readline().decode()[0:-1]\n",
    "        assert (\n",
    "            line == \"System ready\"), f\"Expected 'System ready', got '{line}'\"\n",
    "\n",
    "        # Run until kill signal\n",
    "        while thread[\"run_flag\"]:\n",
    "            # Clear the read buffer\n",
    "            serial.flushInput()\n",
    "\n",
    "            # Read from the device\n",
    "            line: str = serial.readline().decode()\n",
    "\n",
    "            try:\n",
    "                # Split the values in substrings\n",
    "                values_str: str = line.split(\",\")\n",
    "\n",
    "                # Create a dict\n",
    "                values: dict = {\n",
    "                    \"Time\": time(),\n",
    "                    \"A0\": float(values_str[0]),\n",
    "                    \"A1\": float(values_str[1]),\n",
    "                    \"A2\": float(values_str[2])\n",
    "                }\n",
    "\n",
    "                with thread[\"lock\"]:\n",
    "                    # Store the data\n",
    "                    thread[\"data\"].append(values)\n",
    "            except:\n",
    "                pass\n",
    "        print(\"Thread ended\")\n",
    "\n",
    "\n",
    "# Start the thread\n",
    "thread[\"thread\"] = Thread(target=read_serial, args=(\"COM3\",))\n",
    "thread[\"thread\"].start()\n",
    "print(\"Thread started\")\n",
    "\n",
    "for _ in range(10):\n",
    "    # TODO SIGGI HERE\n",
    "    data:list = list()\n",
    "    # Get the data and clear the list\n",
    "    with thread[\"lock\"]:\n",
    "        data = thread[\"data\"].copy()\n",
    "        thread[\"data\"].clear()\n",
    "    # Use the data\n",
    "    print(data)\n",
    "    sleep(1)\n",
    "\n",
    "# End the thread\n",
    "thread[\"run_flag\"] = False\n",
    "thread[\"thread\"].join()\n"
   ]
  }
 ],
 "metadata": {
  "kernelspec": {
   "display_name": "Python 3",
   "language": "python",
   "name": "python3"
  },
  "language_info": {
   "codemirror_mode": {
    "name": "ipython",
    "version": 3
   },
   "file_extension": ".py",
   "mimetype": "text/x-python",
   "name": "python",
   "nbconvert_exporter": "python",
   "pygments_lexer": "ipython3",
   "version": "3.10.6"
  },
  "orig_nbformat": 4
 },
 "nbformat": 4,
 "nbformat_minor": 2
}
